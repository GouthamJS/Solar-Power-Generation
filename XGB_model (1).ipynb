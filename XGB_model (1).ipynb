{
 "cells": [
  {
   "cell_type": "code",
   "execution_count": 1,
   "id": "bc831cb5-3b20-4bb6-917e-f439170adab1",
   "metadata": {},
   "outputs": [],
   "source": [
    "import pandas as pd\n",
    "import numpy as np\n",
    "import joblib\n",
    "from sklearn.model_selection import train_test_split\n",
    "from sklearn.preprocessing import StandardScaler\n",
    "import xgboost as xgb"
   ]
  },
  {
   "cell_type": "code",
   "execution_count": 5,
   "id": "b3c6b3f4-f365-4140-bded-52aa4bc398fd",
   "metadata": {},
   "outputs": [
    {
     "name": "stdout",
     "output_type": "stream",
     "text": [
      "Zero values: 1320\n",
      "Negative values: 0\n",
      "Columns to Drop: {'power-generated', 'average-wind-speed-(period)', 'log_power_generated'}\n",
      "✅ Model, Scaler & Feature Names Saved!\n"
     ]
    }
   ],
   "source": [
    "df=pd.read_csv(\"solarpowergeneration.csv\",index_col=False)\n",
    "df\n",
    "df.isnull().sum()\n",
    "df['average-wind-speed-(period)']=df['average-wind-speed-(period)'].fillna(df['average-wind-speed-(period)'].median())\n",
    "\n",
    "def cap_outliers(df, column):\n",
    "    low = df[column].quantile(0.25)\n",
    "    high = df[column].quantile(0.75)\n",
    "    df[column] = np.where(df[column] < low, low, df[column])\n",
    "    df[column] = np.where(df[column] > high, high, df[column])\n",
    "    return df\n",
    "\n",
    "# Apply capping to features (not target)\n",
    "feature_cols = df.columns.drop('power-generated')\n",
    "for col in feature_cols:\n",
    "    if np.issubdtype(df[col].dtype, np.number):\n",
    "        df = cap_outliers(df, col)\n",
    "print(\"Zero values:\", (df['power-generated'] == 0).sum())\n",
    "print(\"Negative values:\", (df['power-generated'] < 0).sum())\n",
    "\n",
    "# Apply log1p transformation (handles zero values safely)\n",
    "df['log_power_generated'] = np.log1p(df['power-generated'])\n",
    "\n",
    "def find_multicollinear_features(dataset, threshold=0.8):\n",
    "    r = dataset.corr()  # Compute correlation matrix\n",
    "    col_corr = set()  # Store highly correlated columns\n",
    "    \n",
    "    for i in range(len(r.columns)):\n",
    "        for j in range(i):\n",
    "            if abs(r.iloc[i, j]) > threshold:  # Check correlation magnitude\n",
    "                col_name = r.columns[i]\n",
    "                col_corr.add(col_name)  # Add column to set\n",
    "                \n",
    "    return col_corr \n",
    "\n",
    "high_corr_features = find_multicollinear_features(df, 0.6)\n",
    "print(\"Columns to Drop:\", high_corr_features)\n",
    "\n",
    "df.drop(columns=['average-wind-speed-(period)'],inplace=True)\n",
    "features=df.drop(['power-generated','log_power_generated'],axis=1)\n",
    "target=df['log_power_generated']\n",
    "## scaling \n",
    "feature_names =['distance-to-solar-noon','temperature','wind-direction','wind-speed','sky-cover','visibility','humidity','average-pressure-(period)']\n",
    "\n",
    "scal=StandardScaler()\n",
    "\n",
    "scaled_features=scal.fit_transform(features)\n",
    "#Train-test split\n",
    "X_train, X_test, y_train, y_test = train_test_split(scaled_features,target,test_size=0.2, random_state=42)\n",
    "\n",
    "\n",
    "\n",
    "# XGBoost Regressor Model\n",
    "model_xgb = xgb.XGBRegressor(learning_rate=0.1,max_depth=3,n_estimators=100)\n",
    "model_xgb.fit(X_train, y_train)\n",
    "\n",
    "joblib.dump(model_xgb,\"xgb_model.pkl\")\n",
    "# Save Scaler\n",
    "joblib.dump(scal, \"scaler.pkl\")\n",
    "# Save Feature Names\n",
    "joblib.dump(feature_names, \"feature_names.pkl\")\n",
    "\n",
    "print(\"✅ Model, Scaler & Feature Names Saved!\")\n",
    "\n"
   ]
  },
  {
   "cell_type": "code",
   "execution_count": null,
   "id": "6ac786b2-2f5e-4152-924d-ac17106fa7ed",
   "metadata": {},
   "outputs": [],
   "source": []
  }
 ],
 "metadata": {
  "kernelspec": {
   "display_name": "Python 3 (ipykernel)",
   "language": "python",
   "name": "python3"
  },
  "language_info": {
   "codemirror_mode": {
    "name": "ipython",
    "version": 3
   },
   "file_extension": ".py",
   "mimetype": "text/x-python",
   "name": "python",
   "nbconvert_exporter": "python",
   "pygments_lexer": "ipython3",
   "version": "3.12.3"
  }
 },
 "nbformat": 4,
 "nbformat_minor": 5
}
